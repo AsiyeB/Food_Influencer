{
 "cells": [
  {
   "cell_type": "code",
   "execution_count": 1,
   "metadata": {},
   "outputs": [],
   "source": [
    "import pandas as pd"
   ]
  },
  {
   "cell_type": "code",
   "execution_count": 2,
   "metadata": {},
   "outputs": [],
   "source": [
    "posts = pd.read_pickle('omid_food_journey.pkl')"
   ]
  },
  {
   "cell_type": "code",
   "execution_count": 3,
   "metadata": {},
   "outputs": [],
   "source": [
    "details =\\\n",
    "['گرم',\n",
    " 'گرمی',\n",
    " 'مقدار مواد اولیه',\n",
    " 'مواد اولیه',\n",
    " 'سایز',\n",
    " 'مواد',\n",
    " 'ادویه',\n",
    " 'لایه',\n",
    " 'رشته شده',\n",
    " 'گوساله',\n",
    " 'گوسفند',\n",
    " 'ورق',\n",
    " 'سانتی',\n",
    " 'درصد',\n",
    " 'کیلو']\n",
    "\n",
    "negative = ['بدون هیچ مشکلی', 'خوشتون نیومد پس بدین', 'دیگه لازم نیس', 'دیگه نیاز نیس']\n",
    "\n",
    "positive =\\\n",
    "['مرغوب',\n",
    " 'سالم',\n",
    " 'با کیفیت',\n",
    " 'نزدیک',\n",
    " 'راحت',\n",
    " 'شب های تابستون',\n",
    " 'چی میچسبه',\n",
    " 'فضا',\n",
    " 'سالن',\n",
    " 'دکوراسیون',\n",
    " 'خاطره']\n",
    "\n",
    "\n",
    "positive_comments = ['عالی',\n",
    " 'عالیه',\n",
    " 'باکیفیت',\n",
    " '😍❤️',\n",
    " 'شیک',\n",
    " 'تمیز',\n",
    " 'دلنشین',\n",
    " 'بهترین',\n",
    " 'خوشمزه',\n",
    " 'مرتب',\n",
    " 'خواستن',\n",
    " 'لذیذ',\n",
    " 'خفن',\n",
    " 'جالب',\n",
    " 'خوب',\n",
    " 'به به',\n",
    " 'مودب',\n",
    " 'خوش برخورد',\n",
    " 'جذاب',\n",
    " 'فوق العاده',\n",
    " 'وسوسه انگیز',\n",
    " 'بهترین',\n",
    " 'حرف نداره',\n",
    " 'خوشگل',\n",
    " 'بی نقص',\n",
    " 'درجه یک',\n",
    " 'بی نظیر',\n",
    " 'مناسب',\n",
    " 'لایک',\n",
    " 'به صرفه',\n",
    " 'محشر',\n",
    " 'خوب',\n",
    " 'شگفت انگیز',\n",
    " 'هیجان انگیز',\n",
    " 'تکرار حرف',\n",
    " 'ممنون',\n",
    " 'خاص',\n",
    " 'متفاوت']"
   ]
  },
  {
   "cell_type": "code",
   "execution_count": 4,
   "metadata": {},
   "outputs": [],
   "source": [
    "caption_details = posts['caption'].apply(lambda x: any([word in x for word in details]))\n",
    "have_details = posts[caption_details]\n",
    "not_have_details = posts[~caption_details]"
   ]
  },
  {
   "cell_type": "markdown",
   "metadata": {},
   "source": [
    "# پست های بدون جزییات"
   ]
  },
  {
   "cell_type": "code",
   "execution_count": 5,
   "metadata": {},
   "outputs": [
    {
     "data": {
      "text/html": [
       "<div>\n",
       "<style scoped>\n",
       "    .dataframe tbody tr th:only-of-type {\n",
       "        vertical-align: middle;\n",
       "    }\n",
       "\n",
       "    .dataframe tbody tr th {\n",
       "        vertical-align: top;\n",
       "    }\n",
       "\n",
       "    .dataframe thead th {\n",
       "        text-align: right;\n",
       "    }\n",
       "</style>\n",
       "<table border=\"1\" class=\"dataframe\">\n",
       "  <thead>\n",
       "    <tr style=\"text-align: right;\">\n",
       "      <th></th>\n",
       "      <th>post_id</th>\n",
       "      <th>caption</th>\n",
       "      <th>comments</th>\n",
       "      <th>comments_count</th>\n",
       "      <th>likes</th>\n",
       "      <th>followers</th>\n",
       "    </tr>\n",
       "  </thead>\n",
       "  <tbody>\n",
       "    <tr>\n",
       "      <th>0</th>\n",
       "      <td>2019-07-24_11-41-18_UTC</td>\n",
       "      <td>.\\nاینم از محیط و مراحل آماده سازی غذاها و شیر...</td>\n",
       "      <td>[😍😍😍😍👏👏, این اولیه کروسان؟؟؟؟, طراحی تولید تجه...</td>\n",
       "      <td>26</td>\n",
       "      <td>991</td>\n",
       "      <td>245041</td>\n",
       "    </tr>\n",
       "    <tr>\n",
       "      <th>1</th>\n",
       "      <td>2019-07-25_08-52-12_UTC</td>\n",
       "      <td>.\\nمراحل آماده سازي پيتزا وردوره (سبزيجات) كور...</td>\n",
       "      <td>[👏👏👏👏, ما رفتیم ولی دستکش دستشون نبود. حالم بد...</td>\n",
       "      <td>18</td>\n",
       "      <td>772</td>\n",
       "      <td>245041</td>\n",
       "    </tr>\n",
       "    <tr>\n",
       "      <th>3</th>\n",
       "      <td>2019-07-28_09-47-36_UTC</td>\n",
       "      <td>.\\n#آنباکسینگ و اين حرفا 😂🍔\\nفست فود پاچ كه به...</td>\n",
       "      <td>[خودت هم خجالت میکشیدی زیرش را نشون بدی😂🤣🤣😂🤣, ...</td>\n",
       "      <td>101</td>\n",
       "      <td>1866</td>\n",
       "      <td>245041</td>\n",
       "    </tr>\n",
       "    <tr>\n",
       "      <th>5</th>\n",
       "      <td>2019-07-31_08-43-18_UTC</td>\n",
       "      <td>.\\nپیتزا رزانا که مناسب برای ۴ الی ۵ نفر هست ر...</td>\n",
       "      <td>[اسلن زورش میاد پنیر بریزه, به پیج ما هم سری ب...</td>\n",
       "      <td>41</td>\n",
       "      <td>1369</td>\n",
       "      <td>245041</td>\n",
       "    </tr>\n",
       "    <tr>\n",
       "      <th>7</th>\n",
       "      <td>2019-08-03_09-05-38_UTC</td>\n",
       "      <td>.\\nحرفی ندارم🤗🥚\\nاز بین کسانی که دوستاشون رو م...</td>\n",
       "      <td>[ااااااالکی میگی😀😀@pegahnajand, عالیه. لطفا پی...</td>\n",
       "      <td>99</td>\n",
       "      <td>1646</td>\n",
       "      <td>245041</td>\n",
       "    </tr>\n",
       "    <tr>\n",
       "      <th>...</th>\n",
       "      <td>...</td>\n",
       "      <td>...</td>\n",
       "      <td>...</td>\n",
       "      <td>...</td>\n",
       "      <td>...</td>\n",
       "      <td>...</td>\n",
       "    </tr>\n",
       "    <tr>\n",
       "      <th>826</th>\n",
       "      <td>2022-09-19_06-40-10_UTC</td>\n",
       "      <td>بریانی شاد دروازه دولت اصفهان.</td>\n",
       "      <td>[#❤️❤️❤️❤️❤️, بریانی  شاد عالی  ممنون از معرفی...</td>\n",
       "      <td>299</td>\n",
       "      <td>15993</td>\n",
       "      <td>245041</td>\n",
       "    </tr>\n",
       "    <tr>\n",
       "      <th>827</th>\n",
       "      <td>2022-10-09_18-42-31_UTC</td>\n",
       "      <td></td>\n",
       "      <td>[😢😢, 😭😭😭😭😭, 😔😔😭😭, 👏👏👏درود بر شرافتشون, 👏👏👏👏👏, ...</td>\n",
       "      <td>67</td>\n",
       "      <td>5218</td>\n",
       "      <td>245041</td>\n",
       "    </tr>\n",
       "    <tr>\n",
       "      <th>828</th>\n",
       "      <td>2022-10-22_07-22-52_UTC</td>\n",
       "      <td>. \\nرستوران بیگ شِفز خیابان بغداد استانبول\\nاف...</td>\n",
       "      <td>[عالی چقدر خوبه که ما که هرروز با انواع کیک سر...</td>\n",
       "      <td>204</td>\n",
       "      <td>1910</td>\n",
       "      <td>245041</td>\n",
       "    </tr>\n",
       "    <tr>\n",
       "      <th>829</th>\n",
       "      <td>2022-10-22_16-49-30_UTC</td>\n",
       "      <td>. \\nرستوران بیگ شِفز خیابان بغداد استانبول\\nاف...</td>\n",
       "      <td>[برای اولین بار🍟 کورن داگ🍟 در اصفهان \\nاگه دنب...</td>\n",
       "      <td>106</td>\n",
       "      <td>3374</td>\n",
       "      <td>245041</td>\n",
       "    </tr>\n",
       "    <tr>\n",
       "      <th>830</th>\n",
       "      <td>2022-10-25_08-15-58_UTC</td>\n",
       "      <td>. \\nدیزی سرای حاج یدالله \\n\\nاصفهان، خیابان حک...</td>\n",
       "      <td>[خب چرا پیج جاهایی که میری نمیذاری؟, برای اولی...</td>\n",
       "      <td>93</td>\n",
       "      <td>4629</td>\n",
       "      <td>245041</td>\n",
       "    </tr>\n",
       "  </tbody>\n",
       "</table>\n",
       "<p>488 rows × 6 columns</p>\n",
       "</div>"
      ],
      "text/plain": [
       "                     post_id  \\\n",
       "0    2019-07-24_11-41-18_UTC   \n",
       "1    2019-07-25_08-52-12_UTC   \n",
       "3    2019-07-28_09-47-36_UTC   \n",
       "5    2019-07-31_08-43-18_UTC   \n",
       "7    2019-08-03_09-05-38_UTC   \n",
       "..                       ...   \n",
       "826  2022-09-19_06-40-10_UTC   \n",
       "827  2022-10-09_18-42-31_UTC   \n",
       "828  2022-10-22_07-22-52_UTC   \n",
       "829  2022-10-22_16-49-30_UTC   \n",
       "830  2022-10-25_08-15-58_UTC   \n",
       "\n",
       "                                               caption  \\\n",
       "0    .\\nاینم از محیط و مراحل آماده سازی غذاها و شیر...   \n",
       "1    .\\nمراحل آماده سازي پيتزا وردوره (سبزيجات) كور...   \n",
       "3    .\\n#آنباکسینگ و اين حرفا 😂🍔\\nفست فود پاچ كه به...   \n",
       "5    .\\nپیتزا رزانا که مناسب برای ۴ الی ۵ نفر هست ر...   \n",
       "7    .\\nحرفی ندارم🤗🥚\\nاز بین کسانی که دوستاشون رو م...   \n",
       "..                                                 ...   \n",
       "826                     بریانی شاد دروازه دولت اصفهان.   \n",
       "827                                                      \n",
       "828  . \\nرستوران بیگ شِفز خیابان بغداد استانبول\\nاف...   \n",
       "829  . \\nرستوران بیگ شِفز خیابان بغداد استانبول\\nاف...   \n",
       "830  . \\nدیزی سرای حاج یدالله \\n\\nاصفهان، خیابان حک...   \n",
       "\n",
       "                                              comments  comments_count  likes  \\\n",
       "0    [😍😍😍😍👏👏, این اولیه کروسان؟؟؟؟, طراحی تولید تجه...              26    991   \n",
       "1    [👏👏👏👏, ما رفتیم ولی دستکش دستشون نبود. حالم بد...              18    772   \n",
       "3    [خودت هم خجالت میکشیدی زیرش را نشون بدی😂🤣🤣😂🤣, ...             101   1866   \n",
       "5    [اسلن زورش میاد پنیر بریزه, به پیج ما هم سری ب...              41   1369   \n",
       "7    [ااااااالکی میگی😀😀@pegahnajand, عالیه. لطفا پی...              99   1646   \n",
       "..                                                 ...             ...    ...   \n",
       "826  [#❤️❤️❤️❤️❤️, بریانی  شاد عالی  ممنون از معرفی...             299  15993   \n",
       "827  [😢😢, 😭😭😭😭😭, 😔😔😭😭, 👏👏👏درود بر شرافتشون, 👏👏👏👏👏, ...              67   5218   \n",
       "828  [عالی چقدر خوبه که ما که هرروز با انواع کیک سر...             204   1910   \n",
       "829  [برای اولین بار🍟 کورن داگ🍟 در اصفهان \\nاگه دنب...             106   3374   \n",
       "830  [خب چرا پیج جاهایی که میری نمیذاری؟, برای اولی...              93   4629   \n",
       "\n",
       "     followers  \n",
       "0       245041  \n",
       "1       245041  \n",
       "3       245041  \n",
       "5       245041  \n",
       "7       245041  \n",
       "..         ...  \n",
       "826     245041  \n",
       "827     245041  \n",
       "828     245041  \n",
       "829     245041  \n",
       "830     245041  \n",
       "\n",
       "[488 rows x 6 columns]"
      ]
     },
     "execution_count": 5,
     "metadata": {},
     "output_type": "execute_result"
    }
   ],
   "source": [
    "not_have_details"
   ]
  },
  {
   "cell_type": "markdown",
   "metadata": {},
   "source": [
    "# پست های با جزییات"
   ]
  },
  {
   "cell_type": "code",
   "execution_count": 6,
   "metadata": {},
   "outputs": [
    {
     "data": {
      "text/html": [
       "<div>\n",
       "<style scoped>\n",
       "    .dataframe tbody tr th:only-of-type {\n",
       "        vertical-align: middle;\n",
       "    }\n",
       "\n",
       "    .dataframe tbody tr th {\n",
       "        vertical-align: top;\n",
       "    }\n",
       "\n",
       "    .dataframe thead th {\n",
       "        text-align: right;\n",
       "    }\n",
       "</style>\n",
       "<table border=\"1\" class=\"dataframe\">\n",
       "  <thead>\n",
       "    <tr style=\"text-align: right;\">\n",
       "      <th></th>\n",
       "      <th>post_id</th>\n",
       "      <th>caption</th>\n",
       "      <th>comments</th>\n",
       "      <th>comments_count</th>\n",
       "      <th>likes</th>\n",
       "      <th>followers</th>\n",
       "    </tr>\n",
       "  </thead>\n",
       "  <tbody>\n",
       "    <tr>\n",
       "      <th>2</th>\n",
       "      <td>2019-07-26_11-12-53_UTC</td>\n",
       "      <td>.\\nتوی این پست میخوام یه پیتزای خفن و جدید از ...</td>\n",
       "      <td>[به پیج ما هم سری بزنید, 👌👌👌👌, @avinn97, @mehd...</td>\n",
       "      <td>929</td>\n",
       "      <td>6587</td>\n",
       "      <td>245041</td>\n",
       "    </tr>\n",
       "    <tr>\n",
       "      <th>4</th>\n",
       "      <td>2019-07-29_09-09-16_UTC</td>\n",
       "      <td>.\\nسه تا ساندویچ از ساندویچ های پاچ رو تو این ...</td>\n",
       "      <td>[جاشون عوض شده؟, @pardis_2366 مرتبط نیستن ،اون...</td>\n",
       "      <td>33</td>\n",
       "      <td>7069</td>\n",
       "      <td>245041</td>\n",
       "    </tr>\n",
       "    <tr>\n",
       "      <th>6</th>\n",
       "      <td>2019-08-01_08-48-38_UTC</td>\n",
       "      <td>.\\nخب فیلمش رو که توی پست قبلی دیدین بریم سراغ...</td>\n",
       "      <td>[@ywsfy891, @ysmyn1294, @yas.3792, @yosefi.sh3...</td>\n",
       "      <td>1407</td>\n",
       "      <td>7970</td>\n",
       "      <td>245041</td>\n",
       "    </tr>\n",
       "    <tr>\n",
       "      <th>8</th>\n",
       "      <td>2019-08-05_09-19-37_UTC</td>\n",
       "      <td>.\\nجگر سرای چاشنی کرج😋\\n#جگر_پیچ خیلی خفنه جگر...</td>\n",
       "      <td>[من هنوز نفهمیدم خونک دقیقا کوجاشه؟؟😅, اون سیخ...</td>\n",
       "      <td>87</td>\n",
       "      <td>5439</td>\n",
       "      <td>245041</td>\n",
       "    </tr>\n",
       "    <tr>\n",
       "      <th>13</th>\n",
       "      <td>2019-08-13_11-28-15_UTC</td>\n",
       "      <td>.\\nمسابقه:\\nاز بین کسانی که دوستانشون رو منشن ...</td>\n",
       "      <td>[فقط کالباس سیب زمینی مخصوصتون فرق داشت.اما خو...</td>\n",
       "      <td>1276</td>\n",
       "      <td>7193</td>\n",
       "      <td>245041</td>\n",
       "    </tr>\n",
       "    <tr>\n",
       "      <th>...</th>\n",
       "      <td>...</td>\n",
       "      <td>...</td>\n",
       "      <td>...</td>\n",
       "      <td>...</td>\n",
       "      <td>...</td>\n",
       "      <td>...</td>\n",
       "    </tr>\n",
       "    <tr>\n",
       "      <th>815</th>\n",
       "      <td>2022-09-10_07-26-55_UTC</td>\n",
       "      <td>.\\nغذاهای ایرانی عالی❤😍\\n\\n‼️تا ۲۵ شهریور ماه ...</td>\n",
       "      <td>[به به هی میایم تو پیج گشنمون میشه😂, نمونه, بل...</td>\n",
       "      <td>382</td>\n",
       "      <td>3098</td>\n",
       "      <td>245041</td>\n",
       "    </tr>\n",
       "    <tr>\n",
       "      <th>817</th>\n",
       "      <td>2022-09-12_08-47-59_UTC</td>\n",
       "      <td>.\\nکافه رستوران با فضای دنج و سرگرمی های متنوع...</td>\n",
       "      <td>[عالیههههه😍😍😍👏👏👏, 😍عا, ترکوندی با معرفی هات😍, ...</td>\n",
       "      <td>147</td>\n",
       "      <td>4032</td>\n",
       "      <td>245041</td>\n",
       "    </tr>\n",
       "    <tr>\n",
       "      <th>818</th>\n",
       "      <td>2022-09-12_12-54-39_UTC</td>\n",
       "      <td>.\\nکافه رستوران با فضای دنج و سرگرمی های متنوع...</td>\n",
       "      <td>[عالیه, 😢😢😢😢😢😢😢, دلم خواست😢, 👏👏, 😍, 😢😢😢, 😍😍😍😍,...</td>\n",
       "      <td>146</td>\n",
       "      <td>3062</td>\n",
       "      <td>245041</td>\n",
       "    </tr>\n",
       "    <tr>\n",
       "      <th>824</th>\n",
       "      <td>2022-09-16_17-18-45_UTC</td>\n",
       "      <td>.\\nلقمه کباب های خوشمزه کباب باز ❤\\n\\nآیتم جذا...</td>\n",
       "      <td>[😍👍, با پول کم در اصفهان خانه دار شو, 😍😍😍👏👏👏👏ب...</td>\n",
       "      <td>97</td>\n",
       "      <td>2545</td>\n",
       "      <td>245041</td>\n",
       "    </tr>\n",
       "    <tr>\n",
       "      <th>825</th>\n",
       "      <td>2022-09-17_09-07-43_UTC</td>\n",
       "      <td>.\\nلقمه کباب های خوشمزه کباب باز ❤\\n\\nآیتم جذا...</td>\n",
       "      <td>[بهترین😍, واقعا سالم خوشمزه هست, 👀به به دوباره...</td>\n",
       "      <td>160</td>\n",
       "      <td>5611</td>\n",
       "      <td>245041</td>\n",
       "    </tr>\n",
       "  </tbody>\n",
       "</table>\n",
       "<p>343 rows × 6 columns</p>\n",
       "</div>"
      ],
      "text/plain": [
       "                     post_id  \\\n",
       "2    2019-07-26_11-12-53_UTC   \n",
       "4    2019-07-29_09-09-16_UTC   \n",
       "6    2019-08-01_08-48-38_UTC   \n",
       "8    2019-08-05_09-19-37_UTC   \n",
       "13   2019-08-13_11-28-15_UTC   \n",
       "..                       ...   \n",
       "815  2022-09-10_07-26-55_UTC   \n",
       "817  2022-09-12_08-47-59_UTC   \n",
       "818  2022-09-12_12-54-39_UTC   \n",
       "824  2022-09-16_17-18-45_UTC   \n",
       "825  2022-09-17_09-07-43_UTC   \n",
       "\n",
       "                                               caption  \\\n",
       "2    .\\nتوی این پست میخوام یه پیتزای خفن و جدید از ...   \n",
       "4    .\\nسه تا ساندویچ از ساندویچ های پاچ رو تو این ...   \n",
       "6    .\\nخب فیلمش رو که توی پست قبلی دیدین بریم سراغ...   \n",
       "8    .\\nجگر سرای چاشنی کرج😋\\n#جگر_پیچ خیلی خفنه جگر...   \n",
       "13   .\\nمسابقه:\\nاز بین کسانی که دوستانشون رو منشن ...   \n",
       "..                                                 ...   \n",
       "815  .\\nغذاهای ایرانی عالی❤😍\\n\\n‼️تا ۲۵ شهریور ماه ...   \n",
       "817  .\\nکافه رستوران با فضای دنج و سرگرمی های متنوع...   \n",
       "818  .\\nکافه رستوران با فضای دنج و سرگرمی های متنوع...   \n",
       "824  .\\nلقمه کباب های خوشمزه کباب باز ❤\\n\\nآیتم جذا...   \n",
       "825  .\\nلقمه کباب های خوشمزه کباب باز ❤\\n\\nآیتم جذا...   \n",
       "\n",
       "                                              comments  comments_count  likes  \\\n",
       "2    [به پیج ما هم سری بزنید, 👌👌👌👌, @avinn97, @mehd...             929   6587   \n",
       "4    [جاشون عوض شده؟, @pardis_2366 مرتبط نیستن ،اون...              33   7069   \n",
       "6    [@ywsfy891, @ysmyn1294, @yas.3792, @yosefi.sh3...            1407   7970   \n",
       "8    [من هنوز نفهمیدم خونک دقیقا کوجاشه؟؟😅, اون سیخ...              87   5439   \n",
       "13   [فقط کالباس سیب زمینی مخصوصتون فرق داشت.اما خو...            1276   7193   \n",
       "..                                                 ...             ...    ...   \n",
       "815  [به به هی میایم تو پیج گشنمون میشه😂, نمونه, بل...             382   3098   \n",
       "817  [عالیههههه😍😍😍👏👏👏, 😍عا, ترکوندی با معرفی هات😍, ...             147   4032   \n",
       "818  [عالیه, 😢😢😢😢😢😢😢, دلم خواست😢, 👏👏, 😍, 😢😢😢, 😍😍😍😍,...             146   3062   \n",
       "824  [😍👍, با پول کم در اصفهان خانه دار شو, 😍😍😍👏👏👏👏ب...              97   2545   \n",
       "825  [بهترین😍, واقعا سالم خوشمزه هست, 👀به به دوباره...             160   5611   \n",
       "\n",
       "     followers  \n",
       "2       245041  \n",
       "4       245041  \n",
       "6       245041  \n",
       "8       245041  \n",
       "13      245041  \n",
       "..         ...  \n",
       "815     245041  \n",
       "817     245041  \n",
       "818     245041  \n",
       "824     245041  \n",
       "825     245041  \n",
       "\n",
       "[343 rows x 6 columns]"
      ]
     },
     "execution_count": 6,
     "metadata": {},
     "output_type": "execute_result"
    }
   ],
   "source": [
    "have_details"
   ]
  },
  {
   "cell_type": "code",
   "execution_count": 7,
   "metadata": {},
   "outputs": [],
   "source": [
    "caption_neg_capacity = have_details['caption'].apply(lambda x: any([word in x for word in negative]))\n",
    "details_neg = have_details[caption_neg_capacity]"
   ]
  },
  {
   "cell_type": "code",
   "execution_count": 8,
   "metadata": {},
   "outputs": [],
   "source": [
    "caption_pos_capacity = have_details['caption'].apply(lambda x: any([word in x for word in positive]))\n",
    "details_pos = have_details[caption_pos_capacity]"
   ]
  },
  {
   "cell_type": "code",
   "execution_count": 9,
   "metadata": {},
   "outputs": [],
   "source": [
    "caption_neg_capacity = not_have_details['caption'].apply(lambda x: any([word in x for word in negative]))\n",
    "not_details_neg = not_have_details[caption_neg_capacity]"
   ]
  },
  {
   "cell_type": "code",
   "execution_count": 10,
   "metadata": {},
   "outputs": [],
   "source": [
    "caption_pos_capacity = not_have_details['caption'].apply(lambda x: any([word in x for word in positive]))\n",
    "not_details_pos = not_have_details[caption_pos_capacity]"
   ]
  },
  {
   "cell_type": "code",
   "execution_count": 11,
   "metadata": {},
   "outputs": [
    {
     "data": {
      "text/plain": [
       "51447"
      ]
     },
     "execution_count": 11,
     "metadata": {},
     "output_type": "execute_result"
    }
   ],
   "source": [
    "all_comments = not_details_pos['comments'].tolist()\n",
    "not_details_pos_comments = [item for sublist in all_comments for item in sublist]\n",
    "len(not_details_pos_comments)"
   ]
  },
  {
   "cell_type": "markdown",
   "metadata": {},
   "source": [
    "# پست های بدون جزئیات و مثبت"
   ]
  },
  {
   "cell_type": "code",
   "execution_count": 12,
   "metadata": {},
   "outputs": [],
   "source": [
    "real_pos = []\n",
    "for comment in not_details_pos_comments:\n",
    "    for word in positive_comments:\n",
    "        if word in comment:\n",
    "            real_pos.append(comment)\n",
    "            break"
   ]
  },
  {
   "cell_type": "code",
   "execution_count": 13,
   "metadata": {},
   "outputs": [
    {
     "data": {
      "text/plain": [
       "0.0812097887145995"
      ]
     },
     "execution_count": 13,
     "metadata": {},
     "output_type": "execute_result"
    }
   ],
   "source": [
    "len(real_pos)/len(not_details_pos_comments)"
   ]
  },
  {
   "cell_type": "code",
   "execution_count": 14,
   "metadata": {},
   "outputs": [],
   "source": [
    "not_details_pos_comment_percentage = len(real_pos)/len(not_details_pos_comments)"
   ]
  },
  {
   "cell_type": "code",
   "execution_count": 15,
   "metadata": {},
   "outputs": [
    {
     "data": {
      "text/plain": [
       "0.0812097887145995"
      ]
     },
     "execution_count": 15,
     "metadata": {},
     "output_type": "execute_result"
    }
   ],
   "source": [
    "# نسبت کامنتهای مثبت به کل کامنت ها\n",
    "not_details_pos_comment_percentage"
   ]
  },
  {
   "cell_type": "code",
   "execution_count": 16,
   "metadata": {},
   "outputs": [
    {
     "data": {
      "text/plain": [
       "0.01456177294803187"
      ]
     },
     "execution_count": 16,
     "metadata": {},
     "output_type": "execute_result"
    }
   ],
   "source": [
    "# تعداد لایک ها به فالوورا\n",
    "followers = 245041\n",
    "not_details_pos['likes'].mean()/followers"
   ]
  },
  {
   "cell_type": "code",
   "execution_count": 17,
   "metadata": {},
   "outputs": [
    {
     "data": {
      "text/plain": [
       "0.0017351456212708002"
      ]
     },
     "execution_count": 17,
     "metadata": {},
     "output_type": "execute_result"
    }
   ],
   "source": [
    "# تعداد کامنت به فالوور\n",
    "len(not_details_pos_comments)/(followers * len(not_details_pos))"
   ]
  },
  {
   "cell_type": "markdown",
   "metadata": {},
   "source": [
    "# پست های با جزئیات و مثبت"
   ]
  },
  {
   "cell_type": "code",
   "execution_count": 18,
   "metadata": {},
   "outputs": [],
   "source": [
    "all_comments = details_pos['comments'].tolist()\n",
    "details_pos_comments = [item for sublist in all_comments for item in sublist]\n",
    "\n",
    "real_pos = []\n",
    "for comment in details_pos_comments:\n",
    "    for word in positive_comments:\n",
    "        if word in comment:\n",
    "            real_pos.append(comment)\n",
    "            break"
   ]
  },
  {
   "cell_type": "code",
   "execution_count": 19,
   "metadata": {},
   "outputs": [
    {
     "data": {
      "text/plain": [
       "0.06817254048169819"
      ]
     },
     "execution_count": 19,
     "metadata": {},
     "output_type": "execute_result"
    }
   ],
   "source": [
    "# نسبت کامنتهای مثبت به کل کامنت ها\n",
    "details_pos_comment_percentage = len(real_pos)/len(details_pos_comments)\n",
    "details_pos_comment_percentage"
   ]
  },
  {
   "cell_type": "code",
   "execution_count": 20,
   "metadata": {},
   "outputs": [
    {
     "data": {
      "text/plain": [
       "0.016712785649476345"
      ]
     },
     "execution_count": 20,
     "metadata": {},
     "output_type": "execute_result"
    }
   ],
   "source": [
    "# تعداد لایک ها به فالوورا\n",
    "followers = 245041\n",
    "details_pos['likes'].mean()/followers"
   ]
  },
  {
   "cell_type": "code",
   "execution_count": 21,
   "metadata": {},
   "outputs": [
    {
     "data": {
      "text/plain": [
       "0.0026554442249800375"
      ]
     },
     "execution_count": 21,
     "metadata": {},
     "output_type": "execute_result"
    }
   ],
   "source": [
    "# تعداد کامنت به فالوور\n",
    "len(details_pos_comments)/(followers*len(details_pos))"
   ]
  },
  {
   "cell_type": "code",
   "execution_count": null,
   "metadata": {},
   "outputs": [],
   "source": []
  }
 ],
 "metadata": {
  "kernelspec": {
   "display_name": "Python 3",
   "language": "python",
   "name": "python3"
  },
  "language_info": {
   "codemirror_mode": {
    "name": "ipython",
    "version": 3
   },
   "file_extension": ".py",
   "mimetype": "text/x-python",
   "name": "python",
   "nbconvert_exporter": "python",
   "pygments_lexer": "ipython3",
   "version": "3.7.2"
  }
 },
 "nbformat": 4,
 "nbformat_minor": 2
}
