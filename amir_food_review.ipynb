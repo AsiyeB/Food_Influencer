{
 "cells": [
  {
   "cell_type": "code",
   "execution_count": 1,
   "metadata": {},
   "outputs": [],
   "source": [
    "import pandas as pd\n",
    "import numpy as np"
   ]
  },
  {
   "cell_type": "code",
   "execution_count": 2,
   "metadata": {},
   "outputs": [
    {
     "data": {
      "text/html": [
       "<div>\n",
       "<style scoped>\n",
       "    .dataframe tbody tr th:only-of-type {\n",
       "        vertical-align: middle;\n",
       "    }\n",
       "\n",
       "    .dataframe tbody tr th {\n",
       "        vertical-align: top;\n",
       "    }\n",
       "\n",
       "    .dataframe thead th {\n",
       "        text-align: right;\n",
       "    }\n",
       "</style>\n",
       "<table border=\"1\" class=\"dataframe\">\n",
       "  <thead>\n",
       "    <tr style=\"text-align: right;\">\n",
       "      <th></th>\n",
       "      <th>url</th>\n",
       "      <th>caption</th>\n",
       "      <th>likesCount</th>\n",
       "      <th>comments</th>\n",
       "      <th>commentsCount</th>\n",
       "    </tr>\n",
       "  </thead>\n",
       "  <tbody>\n",
       "    <tr>\n",
       "      <th>0</th>\n",
       "      <td>https://www.instagram.com/p/CnrWr3btGxC/</td>\n",
       "      <td>مراسم عقد، با فقط دو میلیون تومن، اتاق عقد مجل...</td>\n",
       "      <td>2781</td>\n",
       "      <td>[@saba.s.rz چه دارین ؟؟؟؟😮, سلام مهمونی معمولی...</td>\n",
       "      <td>46</td>\n",
       "    </tr>\n",
       "    <tr>\n",
       "      <th>1</th>\n",
       "      <td>https://www.instagram.com/p/CnrWGnENFcG/</td>\n",
       "      <td>.\\nاتاق عقد مجلل، کرج. با دو میلیون تومن میتون...</td>\n",
       "      <td>8565</td>\n",
       "      <td>[فقط عکس اخرت، همین دو بال رو کم داشتی😂, @maht...</td>\n",
       "      <td>49</td>\n",
       "    </tr>\n",
       "    <tr>\n",
       "      <th>2</th>\n",
       "      <td>https://www.instagram.com/p/CnqtghYopGb/</td>\n",
       "      <td>صفر تا صد تهیه برگرهای گارینبا، عظیمیه. جزو بر...</td>\n",
       "      <td>3592</td>\n",
       "      <td>[🔷 پیج40کافروشی15کا ویو پرو🔥🔥, 😍😍, 👏✌, من فکر ...</td>\n",
       "      <td>37</td>\n",
       "    </tr>\n",
       "    <tr>\n",
       "      <th>3</th>\n",
       "      <td>https://www.instagram.com/p/CnqrLa8q2Hp/</td>\n",
       "      <td>تریپل امریکن برگر، دویست و شصت و هشت تومن، گار...</td>\n",
       "      <td>7855</td>\n",
       "      <td>[واسه تمساح داری تبلیغ میکنی😂, 😮😮, یکم این گاز...</td>\n",
       "      <td>46</td>\n",
       "    </tr>\n",
       "    <tr>\n",
       "      <th>4</th>\n",
       "      <td>https://www.instagram.com/p/CnqqrtUo9Rb/</td>\n",
       "      <td>سیب زمینی های پر حجم گارینبا، عظیمیه. سیب زمین...</td>\n",
       "      <td>4520</td>\n",
       "      <td>[@hossen3857 شما پول کارگر ، برق ، آب ، اجاره ...</td>\n",
       "      <td>45</td>\n",
       "    </tr>\n",
       "  </tbody>\n",
       "</table>\n",
       "</div>"
      ],
      "text/plain": [
       "                                        url  \\\n",
       "0  https://www.instagram.com/p/CnrWr3btGxC/   \n",
       "1  https://www.instagram.com/p/CnrWGnENFcG/   \n",
       "2  https://www.instagram.com/p/CnqtghYopGb/   \n",
       "3  https://www.instagram.com/p/CnqrLa8q2Hp/   \n",
       "4  https://www.instagram.com/p/CnqqrtUo9Rb/   \n",
       "\n",
       "                                             caption  likesCount  \\\n",
       "0  مراسم عقد، با فقط دو میلیون تومن، اتاق عقد مجل...        2781   \n",
       "1  .\\nاتاق عقد مجلل، کرج. با دو میلیون تومن میتون...        8565   \n",
       "2  صفر تا صد تهیه برگرهای گارینبا، عظیمیه. جزو بر...        3592   \n",
       "3  تریپل امریکن برگر، دویست و شصت و هشت تومن، گار...        7855   \n",
       "4  سیب زمینی های پر حجم گارینبا، عظیمیه. سیب زمین...        4520   \n",
       "\n",
       "                                            comments  commentsCount  \n",
       "0  [@saba.s.rz چه دارین ؟؟؟؟😮, سلام مهمونی معمولی...             46  \n",
       "1  [فقط عکس اخرت، همین دو بال رو کم داشتی😂, @maht...             49  \n",
       "2  [🔷 پیج40کافروشی15کا ویو پرو🔥🔥, 😍😍, 👏✌, من فکر ...             37  \n",
       "3  [واسه تمساح داری تبلیغ میکنی😂, 😮😮, یکم این گاز...             46  \n",
       "4  [@hossen3857 شما پول کارگر ، برق ، آب ، اجاره ...             45  "
      ]
     },
     "execution_count": 2,
     "metadata": {},
     "output_type": "execute_result"
    }
   ],
   "source": [
    "df = pd.read_pickle('amir_food_review.pkl')\n",
    "df.head()"
   ]
  },
  {
   "cell_type": "code",
   "execution_count": 3,
   "metadata": {},
   "outputs": [],
   "source": [
    "followers = 1900000"
   ]
  },
  {
   "cell_type": "code",
   "execution_count": 4,
   "metadata": {},
   "outputs": [],
   "source": [
    "details =\\\n",
    "['گرم',\n",
    " 'گرمی',\n",
    " 'مقدار مواد اولیه',\n",
    " 'مواد اولیه',\n",
    " 'سایز',\n",
    " 'مواد',\n",
    " 'ادویه',\n",
    " 'لایه',\n",
    " 'رشته شده',\n",
    " 'گوساله',\n",
    " 'گوسفند',\n",
    " 'ورق',\n",
    " 'سانتی',\n",
    " 'درصد',\n",
    " 'کیلو']\n",
    "\n",
    "negative = ['بدون هیچ مشکلی', 'خوشتون نیومد','پس بدین', 'لازم نیس', 'نیاز نیس']\n",
    "\n",
    "positive =\\\n",
    "['مرغوب',\n",
    " 'سالم',\n",
    " 'با کیفیت',\n",
    " 'نزدیک',\n",
    " 'راحت',\n",
    " 'شب های تابستون',\n",
    " 'چی میچسبه',\n",
    " 'فضا',\n",
    " 'سالن',\n",
    " 'دکوراسیون',\n",
    " 'خاطره']\n",
    "\n",
    "\n",
    "positive_comments = ['عالی',\n",
    " 'عالیه',\n",
    " 'باکیفیت',\n",
    " '😍❤️',\n",
    " 'شیک',\n",
    " 'تمیز',\n",
    " 'دلنشین',\n",
    " 'بهترین',\n",
    " 'خوشمزه',\n",
    " 'مرتب',\n",
    " 'خواستن',\n",
    " 'لذیذ',\n",
    " 'خفن',\n",
    " 'جالب',\n",
    " 'خوب',\n",
    " 'به به',\n",
    " 'مودب',\n",
    " 'خوش برخورد',\n",
    " 'جذاب',\n",
    " 'فوق العاده',\n",
    " 'وسوسه انگیز',\n",
    " 'بهترین',\n",
    " 'حرف نداره',\n",
    " 'خوشگل',\n",
    " 'بی نقص',\n",
    " 'درجه یک',\n",
    " 'بی نظیر',\n",
    " 'مناسب',\n",
    " 'لایک',\n",
    " 'به صرفه',\n",
    " 'محشر',\n",
    " 'خوب',\n",
    " 'شگفت انگیز',\n",
    " 'هیجان انگیز',\n",
    " 'تکرار حرف',\n",
    " 'ممنون',\n",
    " 'خاص',\n",
    " 'متفاوت']"
   ]
  },
  {
   "cell_type": "code",
   "execution_count": 5,
   "metadata": {},
   "outputs": [
    {
     "data": {
      "text/html": [
       "<div>\n",
       "<style scoped>\n",
       "    .dataframe tbody tr th:only-of-type {\n",
       "        vertical-align: middle;\n",
       "    }\n",
       "\n",
       "    .dataframe tbody tr th {\n",
       "        vertical-align: top;\n",
       "    }\n",
       "\n",
       "    .dataframe thead th {\n",
       "        text-align: right;\n",
       "    }\n",
       "</style>\n",
       "<table border=\"1\" class=\"dataframe\">\n",
       "  <thead>\n",
       "    <tr style=\"text-align: right;\">\n",
       "      <th></th>\n",
       "      <th>url</th>\n",
       "      <th>caption</th>\n",
       "      <th>likesCount</th>\n",
       "      <th>comments</th>\n",
       "      <th>commentsCount</th>\n",
       "    </tr>\n",
       "  </thead>\n",
       "  <tbody>\n",
       "    <tr>\n",
       "      <th>0</th>\n",
       "      <td>https://www.instagram.com/p/CnrWr3btGxC/</td>\n",
       "      <td>مراسم عقد، با فقط دو میلیون تومن، اتاق عقد مجل...</td>\n",
       "      <td>2781</td>\n",
       "      <td>[@saba.s.rz چه دارین ؟؟؟؟😮, سلام مهمونی معمولی...</td>\n",
       "      <td>46</td>\n",
       "    </tr>\n",
       "    <tr>\n",
       "      <th>1</th>\n",
       "      <td>https://www.instagram.com/p/CnrWGnENFcG/</td>\n",
       "      <td>.\\nاتاق عقد مجلل، کرج. با دو میلیون تومن میتون...</td>\n",
       "      <td>8565</td>\n",
       "      <td>[فقط عکس اخرت، همین دو بال رو کم داشتی😂, @maht...</td>\n",
       "      <td>49</td>\n",
       "    </tr>\n",
       "    <tr>\n",
       "      <th>2</th>\n",
       "      <td>https://www.instagram.com/p/CnqtghYopGb/</td>\n",
       "      <td>صفر تا صد تهیه برگرهای گارینبا، عظیمیه. جزو بر...</td>\n",
       "      <td>3592</td>\n",
       "      <td>[🔷 پیج40کافروشی15کا ویو پرو🔥🔥, 😍😍, 👏✌, من فکر ...</td>\n",
       "      <td>37</td>\n",
       "    </tr>\n",
       "    <tr>\n",
       "      <th>3</th>\n",
       "      <td>https://www.instagram.com/p/CnqrLa8q2Hp/</td>\n",
       "      <td>تریپل امریکن برگر، دویست و شصت و هشت تومن، گار...</td>\n",
       "      <td>7855</td>\n",
       "      <td>[واسه تمساح داری تبلیغ میکنی😂, 😮😮, یکم این گاز...</td>\n",
       "      <td>46</td>\n",
       "    </tr>\n",
       "    <tr>\n",
       "      <th>4</th>\n",
       "      <td>https://www.instagram.com/p/CnqqrtUo9Rb/</td>\n",
       "      <td>سیب زمینی های پر حجم گارینبا، عظیمیه. سیب زمین...</td>\n",
       "      <td>4520</td>\n",
       "      <td>[@hossen3857 شما پول کارگر ، برق ، آب ، اجاره ...</td>\n",
       "      <td>45</td>\n",
       "    </tr>\n",
       "    <tr>\n",
       "      <th>...</th>\n",
       "      <td>...</td>\n",
       "      <td>...</td>\n",
       "      <td>...</td>\n",
       "      <td>...</td>\n",
       "      <td>...</td>\n",
       "    </tr>\n",
       "    <tr>\n",
       "      <th>5016</th>\n",
       "      <td>https://www.instagram.com/p/BsljqZkALpU/</td>\n",
       "      <td>.\\n#رستوران پرسیس #زعفرانیه از مجلل ترین رستور...</td>\n",
       "      <td>17062</td>\n",
       "      <td>[@arf.sbm 👍👍👍👌, سالاد شیرازی ۱۵ تومن؟ منطقیه؟,...</td>\n",
       "      <td>36</td>\n",
       "    </tr>\n",
       "    <tr>\n",
       "      <th>5017</th>\n",
       "      <td>https://www.instagram.com/p/Bsk58V-ATiB/</td>\n",
       "      <td>.\\n#پیتزا فرندلی، #کافه #رستوران فرندلی #سعادت...</td>\n",
       "      <td>10195</td>\n",
       "      <td>[@arghavan_ooo 😂😂😂😂😂, @newmosen 😂😂😂😂😂, جالبیش ...</td>\n",
       "      <td>48</td>\n",
       "    </tr>\n",
       "    <tr>\n",
       "      <th>5018</th>\n",
       "      <td>https://www.instagram.com/p/Bsk5Pd6A8CS/</td>\n",
       "      <td>.\\nقیمت های پایینه اینجا، یعنی فرندلی سعادت آب...</td>\n",
       "      <td>13663</td>\n",
       "      <td>[@rhyl90143 نه ولی تجربه کردم غذاهاش فوق‌العاد...</td>\n",
       "      <td>46</td>\n",
       "    </tr>\n",
       "    <tr>\n",
       "      <th>5019</th>\n",
       "      <td>https://www.instagram.com/p/Bsi42twgeAK/</td>\n",
       "      <td>.\\nنحوه ی، درست کردن #پیتزا پستو استیک در چارم...</td>\n",
       "      <td>8927</td>\n",
       "      <td>[اوووووووووم پیتزا😍, اه اه اون سبزه سس😷, امیرخ...</td>\n",
       "      <td>47</td>\n",
       "    </tr>\n",
       "    <tr>\n",
       "      <th>5020</th>\n",
       "      <td>https://www.instagram.com/p/Bsi4NH1AvyL/</td>\n",
       "      <td>.\\nچارمن ستارخان. اینجا بچه ها توسط چهار تا بر...</td>\n",
       "      <td>12138</td>\n",
       "      <td>[😋😍👍, Goli__.gt, برای خرید انواع لباس شال و کی...</td>\n",
       "      <td>48</td>\n",
       "    </tr>\n",
       "  </tbody>\n",
       "</table>\n",
       "<p>5021 rows × 5 columns</p>\n",
       "</div>"
      ],
      "text/plain": [
       "                                           url  \\\n",
       "0     https://www.instagram.com/p/CnrWr3btGxC/   \n",
       "1     https://www.instagram.com/p/CnrWGnENFcG/   \n",
       "2     https://www.instagram.com/p/CnqtghYopGb/   \n",
       "3     https://www.instagram.com/p/CnqrLa8q2Hp/   \n",
       "4     https://www.instagram.com/p/CnqqrtUo9Rb/   \n",
       "...                                        ...   \n",
       "5016  https://www.instagram.com/p/BsljqZkALpU/   \n",
       "5017  https://www.instagram.com/p/Bsk58V-ATiB/   \n",
       "5018  https://www.instagram.com/p/Bsk5Pd6A8CS/   \n",
       "5019  https://www.instagram.com/p/Bsi42twgeAK/   \n",
       "5020  https://www.instagram.com/p/Bsi4NH1AvyL/   \n",
       "\n",
       "                                                caption  likesCount  \\\n",
       "0     مراسم عقد، با فقط دو میلیون تومن، اتاق عقد مجل...        2781   \n",
       "1     .\\nاتاق عقد مجلل، کرج. با دو میلیون تومن میتون...        8565   \n",
       "2     صفر تا صد تهیه برگرهای گارینبا، عظیمیه. جزو بر...        3592   \n",
       "3     تریپل امریکن برگر، دویست و شصت و هشت تومن، گار...        7855   \n",
       "4     سیب زمینی های پر حجم گارینبا، عظیمیه. سیب زمین...        4520   \n",
       "...                                                 ...         ...   \n",
       "5016  .\\n#رستوران پرسیس #زعفرانیه از مجلل ترین رستور...       17062   \n",
       "5017  .\\n#پیتزا فرندلی، #کافه #رستوران فرندلی #سعادت...       10195   \n",
       "5018  .\\nقیمت های پایینه اینجا، یعنی فرندلی سعادت آب...       13663   \n",
       "5019  .\\nنحوه ی، درست کردن #پیتزا پستو استیک در چارم...        8927   \n",
       "5020  .\\nچارمن ستارخان. اینجا بچه ها توسط چهار تا بر...       12138   \n",
       "\n",
       "                                               comments  commentsCount  \n",
       "0     [@saba.s.rz چه دارین ؟؟؟؟😮, سلام مهمونی معمولی...             46  \n",
       "1     [فقط عکس اخرت، همین دو بال رو کم داشتی😂, @maht...             49  \n",
       "2     [🔷 پیج40کافروشی15کا ویو پرو🔥🔥, 😍😍, 👏✌, من فکر ...             37  \n",
       "3     [واسه تمساح داری تبلیغ میکنی😂, 😮😮, یکم این گاز...             46  \n",
       "4     [@hossen3857 شما پول کارگر ، برق ، آب ، اجاره ...             45  \n",
       "...                                                 ...            ...  \n",
       "5016  [@arf.sbm 👍👍👍👌, سالاد شیرازی ۱۵ تومن؟ منطقیه؟,...             36  \n",
       "5017  [@arghavan_ooo 😂😂😂😂😂, @newmosen 😂😂😂😂😂, جالبیش ...             48  \n",
       "5018  [@rhyl90143 نه ولی تجربه کردم غذاهاش فوق‌العاد...             46  \n",
       "5019  [اوووووووووم پیتزا😍, اه اه اون سبزه سس😷, امیرخ...             47  \n",
       "5020  [😋😍👍, Goli__.gt, برای خرید انواع لباس شال و کی...             48  \n",
       "\n",
       "[5021 rows x 5 columns]"
      ]
     },
     "execution_count": 5,
     "metadata": {},
     "output_type": "execute_result"
    }
   ],
   "source": [
    "posts = df\n",
    "posts"
   ]
  },
  {
   "cell_type": "code",
   "execution_count": 6,
   "metadata": {},
   "outputs": [],
   "source": [
    "posts.isnull().sum()\n",
    "posts['caption'] = posts['caption'].fillna('')"
   ]
  },
  {
   "cell_type": "code",
   "execution_count": 7,
   "metadata": {},
   "outputs": [],
   "source": [
    "caption_details = posts['caption'].apply(lambda x: any([word in x for word in details]))\n",
    "have_details = posts[caption_details]\n",
    "not_have_details = posts[~caption_details] "
   ]
  },
  {
   "cell_type": "markdown",
   "metadata": {},
   "source": [
    "## پست های بدون جزئیات"
   ]
  },
  {
   "cell_type": "code",
   "execution_count": 8,
   "metadata": {},
   "outputs": [
    {
     "data": {
      "text/html": [
       "<div>\n",
       "<style scoped>\n",
       "    .dataframe tbody tr th:only-of-type {\n",
       "        vertical-align: middle;\n",
       "    }\n",
       "\n",
       "    .dataframe tbody tr th {\n",
       "        vertical-align: top;\n",
       "    }\n",
       "\n",
       "    .dataframe thead th {\n",
       "        text-align: right;\n",
       "    }\n",
       "</style>\n",
       "<table border=\"1\" class=\"dataframe\">\n",
       "  <thead>\n",
       "    <tr style=\"text-align: right;\">\n",
       "      <th></th>\n",
       "      <th>url</th>\n",
       "      <th>caption</th>\n",
       "      <th>likesCount</th>\n",
       "      <th>comments</th>\n",
       "      <th>commentsCount</th>\n",
       "    </tr>\n",
       "  </thead>\n",
       "  <tbody>\n",
       "    <tr>\n",
       "      <th>0</th>\n",
       "      <td>https://www.instagram.com/p/CnrWr3btGxC/</td>\n",
       "      <td>مراسم عقد، با فقط دو میلیون تومن، اتاق عقد مجل...</td>\n",
       "      <td>2781</td>\n",
       "      <td>[@saba.s.rz چه دارین ؟؟؟؟😮, سلام مهمونی معمولی...</td>\n",
       "      <td>46</td>\n",
       "    </tr>\n",
       "    <tr>\n",
       "      <th>1</th>\n",
       "      <td>https://www.instagram.com/p/CnrWGnENFcG/</td>\n",
       "      <td>.\\nاتاق عقد مجلل، کرج. با دو میلیون تومن میتون...</td>\n",
       "      <td>8565</td>\n",
       "      <td>[فقط عکس اخرت، همین دو بال رو کم داشتی😂, @maht...</td>\n",
       "      <td>49</td>\n",
       "    </tr>\n",
       "    <tr>\n",
       "      <th>2</th>\n",
       "      <td>https://www.instagram.com/p/CnqtghYopGb/</td>\n",
       "      <td>صفر تا صد تهیه برگرهای گارینبا، عظیمیه. جزو بر...</td>\n",
       "      <td>3592</td>\n",
       "      <td>[🔷 پیج40کافروشی15کا ویو پرو🔥🔥, 😍😍, 👏✌, من فکر ...</td>\n",
       "      <td>37</td>\n",
       "    </tr>\n",
       "    <tr>\n",
       "      <th>3</th>\n",
       "      <td>https://www.instagram.com/p/CnqrLa8q2Hp/</td>\n",
       "      <td>تریپل امریکن برگر، دویست و شصت و هشت تومن، گار...</td>\n",
       "      <td>7855</td>\n",
       "      <td>[واسه تمساح داری تبلیغ میکنی😂, 😮😮, یکم این گاز...</td>\n",
       "      <td>46</td>\n",
       "    </tr>\n",
       "    <tr>\n",
       "      <th>15</th>\n",
       "      <td>https://www.instagram.com/p/CnhIJ6FKUK0/</td>\n",
       "      <td>مغزهای زعفرونی کبابی، جگرکی سلطان، شریعتی. دیگ...</td>\n",
       "      <td>25797</td>\n",
       "      <td>[این مرده سری های اول هیچ زر نمیزد حاااالا خیی...</td>\n",
       "      <td>48</td>\n",
       "    </tr>\n",
       "    <tr>\n",
       "      <th>...</th>\n",
       "      <td>...</td>\n",
       "      <td>...</td>\n",
       "      <td>...</td>\n",
       "      <td>...</td>\n",
       "      <td>...</td>\n",
       "    </tr>\n",
       "    <tr>\n",
       "      <th>5015</th>\n",
       "      <td>https://www.instagram.com/p/BsnIRvdgwwt/</td>\n",
       "      <td>.\\nبچه ها یکی از #رستوران های خیلی خوب جنوبی ک...</td>\n",
       "      <td>21054</td>\n",
       "      <td>[خدا بیامرز مادر بزرگم‌همیشه میگفت تنها چیزی ک...</td>\n",
       "      <td>48</td>\n",
       "    </tr>\n",
       "    <tr>\n",
       "      <th>5016</th>\n",
       "      <td>https://www.instagram.com/p/BsljqZkALpU/</td>\n",
       "      <td>.\\n#رستوران پرسیس #زعفرانیه از مجلل ترین رستور...</td>\n",
       "      <td>17062</td>\n",
       "      <td>[@arf.sbm 👍👍👍👌, سالاد شیرازی ۱۵ تومن؟ منطقیه؟,...</td>\n",
       "      <td>36</td>\n",
       "    </tr>\n",
       "    <tr>\n",
       "      <th>5018</th>\n",
       "      <td>https://www.instagram.com/p/Bsk5Pd6A8CS/</td>\n",
       "      <td>.\\nقیمت های پایینه اینجا، یعنی فرندلی سعادت آب...</td>\n",
       "      <td>13663</td>\n",
       "      <td>[@rhyl90143 نه ولی تجربه کردم غذاهاش فوق‌العاد...</td>\n",
       "      <td>46</td>\n",
       "    </tr>\n",
       "    <tr>\n",
       "      <th>5019</th>\n",
       "      <td>https://www.instagram.com/p/Bsi42twgeAK/</td>\n",
       "      <td>.\\nنحوه ی، درست کردن #پیتزا پستو استیک در چارم...</td>\n",
       "      <td>8927</td>\n",
       "      <td>[اوووووووووم پیتزا😍, اه اه اون سبزه سس😷, امیرخ...</td>\n",
       "      <td>47</td>\n",
       "    </tr>\n",
       "    <tr>\n",
       "      <th>5020</th>\n",
       "      <td>https://www.instagram.com/p/Bsi4NH1AvyL/</td>\n",
       "      <td>.\\nچارمن ستارخان. اینجا بچه ها توسط چهار تا بر...</td>\n",
       "      <td>12138</td>\n",
       "      <td>[😋😍👍, Goli__.gt, برای خرید انواع لباس شال و کی...</td>\n",
       "      <td>48</td>\n",
       "    </tr>\n",
       "  </tbody>\n",
       "</table>\n",
       "<p>2347 rows × 5 columns</p>\n",
       "</div>"
      ],
      "text/plain": [
       "                                           url  \\\n",
       "0     https://www.instagram.com/p/CnrWr3btGxC/   \n",
       "1     https://www.instagram.com/p/CnrWGnENFcG/   \n",
       "2     https://www.instagram.com/p/CnqtghYopGb/   \n",
       "3     https://www.instagram.com/p/CnqrLa8q2Hp/   \n",
       "15    https://www.instagram.com/p/CnhIJ6FKUK0/   \n",
       "...                                        ...   \n",
       "5015  https://www.instagram.com/p/BsnIRvdgwwt/   \n",
       "5016  https://www.instagram.com/p/BsljqZkALpU/   \n",
       "5018  https://www.instagram.com/p/Bsk5Pd6A8CS/   \n",
       "5019  https://www.instagram.com/p/Bsi42twgeAK/   \n",
       "5020  https://www.instagram.com/p/Bsi4NH1AvyL/   \n",
       "\n",
       "                                                caption  likesCount  \\\n",
       "0     مراسم عقد، با فقط دو میلیون تومن، اتاق عقد مجل...        2781   \n",
       "1     .\\nاتاق عقد مجلل، کرج. با دو میلیون تومن میتون...        8565   \n",
       "2     صفر تا صد تهیه برگرهای گارینبا، عظیمیه. جزو بر...        3592   \n",
       "3     تریپل امریکن برگر، دویست و شصت و هشت تومن، گار...        7855   \n",
       "15    مغزهای زعفرونی کبابی، جگرکی سلطان، شریعتی. دیگ...       25797   \n",
       "...                                                 ...         ...   \n",
       "5015  .\\nبچه ها یکی از #رستوران های خیلی خوب جنوبی ک...       21054   \n",
       "5016  .\\n#رستوران پرسیس #زعفرانیه از مجلل ترین رستور...       17062   \n",
       "5018  .\\nقیمت های پایینه اینجا، یعنی فرندلی سعادت آب...       13663   \n",
       "5019  .\\nنحوه ی، درست کردن #پیتزا پستو استیک در چارم...        8927   \n",
       "5020  .\\nچارمن ستارخان. اینجا بچه ها توسط چهار تا بر...       12138   \n",
       "\n",
       "                                               comments  commentsCount  \n",
       "0     [@saba.s.rz چه دارین ؟؟؟؟😮, سلام مهمونی معمولی...             46  \n",
       "1     [فقط عکس اخرت، همین دو بال رو کم داشتی😂, @maht...             49  \n",
       "2     [🔷 پیج40کافروشی15کا ویو پرو🔥🔥, 😍😍, 👏✌, من فکر ...             37  \n",
       "3     [واسه تمساح داری تبلیغ میکنی😂, 😮😮, یکم این گاز...             46  \n",
       "15    [این مرده سری های اول هیچ زر نمیزد حاااالا خیی...             48  \n",
       "...                                                 ...            ...  \n",
       "5015  [خدا بیامرز مادر بزرگم‌همیشه میگفت تنها چیزی ک...             48  \n",
       "5016  [@arf.sbm 👍👍👍👌, سالاد شیرازی ۱۵ تومن؟ منطقیه؟,...             36  \n",
       "5018  [@rhyl90143 نه ولی تجربه کردم غذاهاش فوق‌العاد...             46  \n",
       "5019  [اوووووووووم پیتزا😍, اه اه اون سبزه سس😷, امیرخ...             47  \n",
       "5020  [😋😍👍, Goli__.gt, برای خرید انواع لباس شال و کی...             48  \n",
       "\n",
       "[2347 rows x 5 columns]"
      ]
     },
     "execution_count": 8,
     "metadata": {},
     "output_type": "execute_result"
    }
   ],
   "source": [
    "not_have_details"
   ]
  },
  {
   "cell_type": "markdown",
   "metadata": {},
   "source": [
    "## پست های با جزئیات"
   ]
  },
  {
   "cell_type": "code",
   "execution_count": 9,
   "metadata": {},
   "outputs": [
    {
     "data": {
      "text/html": [
       "<div>\n",
       "<style scoped>\n",
       "    .dataframe tbody tr th:only-of-type {\n",
       "        vertical-align: middle;\n",
       "    }\n",
       "\n",
       "    .dataframe tbody tr th {\n",
       "        vertical-align: top;\n",
       "    }\n",
       "\n",
       "    .dataframe thead th {\n",
       "        text-align: right;\n",
       "    }\n",
       "</style>\n",
       "<table border=\"1\" class=\"dataframe\">\n",
       "  <thead>\n",
       "    <tr style=\"text-align: right;\">\n",
       "      <th></th>\n",
       "      <th>url</th>\n",
       "      <th>caption</th>\n",
       "      <th>likesCount</th>\n",
       "      <th>comments</th>\n",
       "      <th>commentsCount</th>\n",
       "    </tr>\n",
       "  </thead>\n",
       "  <tbody>\n",
       "    <tr>\n",
       "      <th>4</th>\n",
       "      <td>https://www.instagram.com/p/CnqqrtUo9Rb/</td>\n",
       "      <td>سیب زمینی های پر حجم گارینبا، عظیمیه. سیب زمین...</td>\n",
       "      <td>4520</td>\n",
       "      <td>[@hossen3857 شما پول کارگر ، برق ، آب ، اجاره ...</td>\n",
       "      <td>45</td>\n",
       "    </tr>\n",
       "    <tr>\n",
       "      <th>5</th>\n",
       "      <td>https://www.instagram.com/p/CnqqlbyNlm3/</td>\n",
       "      <td>.\\nگارینبا، عظیمیه. #برگر هاشون خیلی #خوشمزه س...</td>\n",
       "      <td>4633</td>\n",
       "      <td>[چه بمبی سده👌👌👌👌, 😍😍, پیتزاش بدرد نمی‌خورد, ❤️...</td>\n",
       "      <td>44</td>\n",
       "    </tr>\n",
       "    <tr>\n",
       "      <th>6</th>\n",
       "      <td>https://www.instagram.com/p/CnmD9-gKx1E/</td>\n",
       "      <td>مراحل انتخاب و درست کردن چک موز، شعبه گوهردشت....</td>\n",
       "      <td>26006</td>\n",
       "      <td>[به من ثابت شد در ایران و رژیم آخوندا هر کی مع...</td>\n",
       "      <td>46</td>\n",
       "    </tr>\n",
       "    <tr>\n",
       "      <th>7</th>\n",
       "      <td>https://www.instagram.com/p/CnmC6L8IcgW/</td>\n",
       "      <td>ذرت مکزیکی های خوشمزه، لیوانی پنجاه تومن، چک م...</td>\n",
       "      <td>15863</td>\n",
       "      <td>[😍😍😍, چرا پنیرش‌مطهر نیست بعد پورسیر نداشت سس ...</td>\n",
       "      <td>45</td>\n",
       "    </tr>\n",
       "    <tr>\n",
       "      <th>8</th>\n",
       "      <td>https://www.instagram.com/p/CnmCzr1tnqi/</td>\n",
       "      <td>.\\nچک موز، شعبه گوهردشت. شیک های خاص باحالی که...</td>\n",
       "      <td>17504</td>\n",
       "      <td>[@cafe.restaurant.kanani, چرادوتا ساعت دستت؟, ...</td>\n",
       "      <td>46</td>\n",
       "    </tr>\n",
       "    <tr>\n",
       "      <th>...</th>\n",
       "      <td>...</td>\n",
       "      <td>...</td>\n",
       "      <td>...</td>\n",
       "      <td>...</td>\n",
       "      <td>...</td>\n",
       "    </tr>\n",
       "    <tr>\n",
       "      <th>5008</th>\n",
       "      <td>https://www.instagram.com/p/BsqJNUOgMnn/</td>\n",
       "      <td>.\\nنحوه درست کردن #ساندویچ مخصوص سیصد و پنجاه ...</td>\n",
       "      <td>13434</td>\n",
       "      <td>[دقیقا از اونجایی برید که زمان چیدن ،قسمت دوم ...</td>\n",
       "      <td>43</td>\n",
       "    </tr>\n",
       "    <tr>\n",
       "      <th>5009</th>\n",
       "      <td>https://www.instagram.com/p/BsqIwzPgI0y/</td>\n",
       "      <td>.\\nبا سلام خدمت دوستان اگر سمت ستارخان هستید و...</td>\n",
       "      <td>12319</td>\n",
       "      <td>[😍😍😍😍😍😍😍😍😍, این کالباسا مرغوبه که اینقد کیلویی...</td>\n",
       "      <td>42</td>\n",
       "    </tr>\n",
       "    <tr>\n",
       "      <th>5010</th>\n",
       "      <td>https://www.instagram.com/p/Bspm_sIgGce/</td>\n",
       "      <td>.\\nنحوه درست کردن #سالاد #سزار #خوشمزه در #رست...</td>\n",
       "      <td>19659</td>\n",
       "      <td>[هیچ سزاری سزاره نیمکت مهرشهر نمیشن, @richandw...</td>\n",
       "      <td>47</td>\n",
       "    </tr>\n",
       "    <tr>\n",
       "      <th>5011</th>\n",
       "      <td>https://www.instagram.com/p/Bspm0LXgGg8/</td>\n",
       "      <td>.\\nاز بهترین #سالاد #سزار های #کرج و #مهرشهر، ...</td>\n",
       "      <td>12704</td>\n",
       "      <td>[@bita.qodrati chera tala ino nadidim ma😐, @ma...</td>\n",
       "      <td>42</td>\n",
       "    </tr>\n",
       "    <tr>\n",
       "      <th>5017</th>\n",
       "      <td>https://www.instagram.com/p/Bsk58V-ATiB/</td>\n",
       "      <td>.\\n#پیتزا فرندلی، #کافه #رستوران فرندلی #سعادت...</td>\n",
       "      <td>10195</td>\n",
       "      <td>[@arghavan_ooo 😂😂😂😂😂, @newmosen 😂😂😂😂😂, جالبیش ...</td>\n",
       "      <td>48</td>\n",
       "    </tr>\n",
       "  </tbody>\n",
       "</table>\n",
       "<p>2674 rows × 5 columns</p>\n",
       "</div>"
      ],
      "text/plain": [
       "                                           url  \\\n",
       "4     https://www.instagram.com/p/CnqqrtUo9Rb/   \n",
       "5     https://www.instagram.com/p/CnqqlbyNlm3/   \n",
       "6     https://www.instagram.com/p/CnmD9-gKx1E/   \n",
       "7     https://www.instagram.com/p/CnmC6L8IcgW/   \n",
       "8     https://www.instagram.com/p/CnmCzr1tnqi/   \n",
       "...                                        ...   \n",
       "5008  https://www.instagram.com/p/BsqJNUOgMnn/   \n",
       "5009  https://www.instagram.com/p/BsqIwzPgI0y/   \n",
       "5010  https://www.instagram.com/p/Bspm_sIgGce/   \n",
       "5011  https://www.instagram.com/p/Bspm0LXgGg8/   \n",
       "5017  https://www.instagram.com/p/Bsk58V-ATiB/   \n",
       "\n",
       "                                                caption  likesCount  \\\n",
       "4     سیب زمینی های پر حجم گارینبا، عظیمیه. سیب زمین...        4520   \n",
       "5     .\\nگارینبا، عظیمیه. #برگر هاشون خیلی #خوشمزه س...        4633   \n",
       "6     مراحل انتخاب و درست کردن چک موز، شعبه گوهردشت....       26006   \n",
       "7     ذرت مکزیکی های خوشمزه، لیوانی پنجاه تومن، چک م...       15863   \n",
       "8     .\\nچک موز، شعبه گوهردشت. شیک های خاص باحالی که...       17504   \n",
       "...                                                 ...         ...   \n",
       "5008  .\\nنحوه درست کردن #ساندویچ مخصوص سیصد و پنجاه ...       13434   \n",
       "5009  .\\nبا سلام خدمت دوستان اگر سمت ستارخان هستید و...       12319   \n",
       "5010  .\\nنحوه درست کردن #سالاد #سزار #خوشمزه در #رست...       19659   \n",
       "5011  .\\nاز بهترین #سالاد #سزار های #کرج و #مهرشهر، ...       12704   \n",
       "5017  .\\n#پیتزا فرندلی، #کافه #رستوران فرندلی #سعادت...       10195   \n",
       "\n",
       "                                               comments  commentsCount  \n",
       "4     [@hossen3857 شما پول کارگر ، برق ، آب ، اجاره ...             45  \n",
       "5     [چه بمبی سده👌👌👌👌, 😍😍, پیتزاش بدرد نمی‌خورد, ❤️...             44  \n",
       "6     [به من ثابت شد در ایران و رژیم آخوندا هر کی مع...             46  \n",
       "7     [😍😍😍, چرا پنیرش‌مطهر نیست بعد پورسیر نداشت سس ...             45  \n",
       "8     [@cafe.restaurant.kanani, چرادوتا ساعت دستت؟, ...             46  \n",
       "...                                                 ...            ...  \n",
       "5008  [دقیقا از اونجایی برید که زمان چیدن ،قسمت دوم ...             43  \n",
       "5009  [😍😍😍😍😍😍😍😍😍, این کالباسا مرغوبه که اینقد کیلویی...             42  \n",
       "5010  [هیچ سزاری سزاره نیمکت مهرشهر نمیشن, @richandw...             47  \n",
       "5011  [@bita.qodrati chera tala ino nadidim ma😐, @ma...             42  \n",
       "5017  [@arghavan_ooo 😂😂😂😂😂, @newmosen 😂😂😂😂😂, جالبیش ...             48  \n",
       "\n",
       "[2674 rows x 5 columns]"
      ]
     },
     "execution_count": 9,
     "metadata": {},
     "output_type": "execute_result"
    }
   ],
   "source": [
    "have_details"
   ]
  },
  {
   "cell_type": "markdown",
   "metadata": {},
   "source": [
    "## پست های با جزئیات و منفی"
   ]
  },
  {
   "cell_type": "code",
   "execution_count": 10,
   "metadata": {},
   "outputs": [
    {
     "data": {
      "text/plain": [
       "(19, 5)"
      ]
     },
     "execution_count": 10,
     "metadata": {},
     "output_type": "execute_result"
    }
   ],
   "source": [
    "caption_neg_capacity = have_details['caption'].apply(lambda x: any([word in x for word in negative]))\n",
    "details_neg = have_details[caption_neg_capacity]\n",
    "details_neg.shape"
   ]
  },
  {
   "cell_type": "code",
   "execution_count": 11,
   "metadata": {},
   "outputs": [],
   "source": [
    "all_comments = details_neg['comments'].tolist()\n",
    "details_neg_pos_comments = [item for sublist in all_comments for item in sublist]\n",
    "len(details_neg_pos_comments)\n",
    "\n",
    "real_pos = []\n",
    "for comment in details_neg_pos_comments:\n",
    "    for word in positive_comments:\n",
    "        if word in comment:\n",
    "            real_pos.append(comment)\n",
    "            break"
   ]
  },
  {
   "cell_type": "code",
   "execution_count": 12,
   "metadata": {},
   "outputs": [
    {
     "data": {
      "text/plain": [
       "0.1344632768361582"
      ]
     },
     "execution_count": 12,
     "metadata": {},
     "output_type": "execute_result"
    }
   ],
   "source": [
    "# نسبت کامنتهای مثبت به کل کامنت ها\n",
    "details_neg_pos_comment_percentage = len(real_pos)/len(details_neg_pos_comments)\n",
    "details_neg_pos_comment_percentage"
   ]
  },
  {
   "cell_type": "code",
   "execution_count": 13,
   "metadata": {},
   "outputs": [
    {
     "data": {
      "text/plain": [
       "0.01384185595567867"
      ]
     },
     "execution_count": 13,
     "metadata": {},
     "output_type": "execute_result"
    }
   ],
   "source": [
    "# تعداد لایک ها به فالوورا\n",
    "details_neg['likesCount'].mean()/followers"
   ]
  },
  {
   "cell_type": "code",
   "execution_count": 14,
   "metadata": {},
   "outputs": [
    {
     "data": {
      "text/plain": [
       "2.4515235457063713e-05"
      ]
     },
     "execution_count": 14,
     "metadata": {},
     "output_type": "execute_result"
    }
   ],
   "source": [
    "# تعداد کامنت به فالوور\n",
    "len(details_neg_pos_comments)/(followers*len(details_neg))"
   ]
  },
  {
   "cell_type": "markdown",
   "metadata": {},
   "source": [
    "## پست های با جزئیات و مثبت"
   ]
  },
  {
   "cell_type": "code",
   "execution_count": 15,
   "metadata": {},
   "outputs": [
    {
     "data": {
      "text/plain": [
       "(577, 5)"
      ]
     },
     "execution_count": 15,
     "metadata": {},
     "output_type": "execute_result"
    }
   ],
   "source": [
    "caption_pos_capacity = have_details['caption'].apply(lambda x: any([word in x for word in positive]))\n",
    "details_pos = have_details[caption_pos_capacity]\n",
    "details_pos.shape"
   ]
  },
  {
   "cell_type": "code",
   "execution_count": 16,
   "metadata": {},
   "outputs": [],
   "source": [
    "all_comments = details_pos['comments'].tolist()\n",
    "details_pos_comments = [item for sublist in all_comments for item in sublist]\n",
    "\n",
    "real_pos = []\n",
    "for comment in details_pos_comments:\n",
    "    for word in positive_comments:\n",
    "        if word in comment:\n",
    "            real_pos.append(comment)\n",
    "            break"
   ]
  },
  {
   "cell_type": "code",
   "execution_count": 17,
   "metadata": {},
   "outputs": [
    {
     "data": {
      "text/plain": [
       "0.1565629742033384"
      ]
     },
     "execution_count": 17,
     "metadata": {},
     "output_type": "execute_result"
    }
   ],
   "source": [
    "# نسبت کامنتهای مثبت به کل کامنت ها\n",
    "details_pos_comment_percentage = len(real_pos)/len(details_pos_comments)\n",
    "details_pos_comment_percentage"
   ]
  },
  {
   "cell_type": "code",
   "execution_count": 18,
   "metadata": {},
   "outputs": [
    {
     "data": {
      "text/plain": [
       "0.09874104681537502"
      ]
     },
     "execution_count": 18,
     "metadata": {},
     "output_type": "execute_result"
    }
   ],
   "source": [
    "# تعداد لایک ها به فالوورا\n",
    "followers = 245041\n",
    "details_pos['likesCount'].mean()/followers"
   ]
  },
  {
   "cell_type": "code",
   "execution_count": 19,
   "metadata": {},
   "outputs": [
    {
     "data": {
      "text/plain": [
       "0.00018643645508281475"
      ]
     },
     "execution_count": 19,
     "metadata": {},
     "output_type": "execute_result"
    }
   ],
   "source": [
    "# تعداد کامنت به فالوور\n",
    "len(details_pos_comments)/(followers*len(details_pos))"
   ]
  },
  {
   "cell_type": "markdown",
   "metadata": {},
   "source": [
    "## پست های بدون جزئیات و منفی"
   ]
  },
  {
   "cell_type": "code",
   "execution_count": 20,
   "metadata": {},
   "outputs": [
    {
     "data": {
      "text/plain": [
       "(19, 5)"
      ]
     },
     "execution_count": 20,
     "metadata": {},
     "output_type": "execute_result"
    }
   ],
   "source": [
    "caption_neg_capacity = not_have_details['caption'].apply(lambda x: any([word in x for word in negative]))\n",
    "not_details_neg = not_have_details[caption_neg_capacity]\n",
    "not_details_neg.shape"
   ]
  },
  {
   "cell_type": "code",
   "execution_count": 21,
   "metadata": {},
   "outputs": [],
   "source": [
    "all_comments = not_details_neg['comments'].tolist()\n",
    "not_details_neg_pos_comments = [item for sublist in all_comments for item in sublist]\n",
    "len(not_details_neg_pos_comments)\n",
    "\n",
    "real_pos = []\n",
    "for comment in not_details_neg_pos_comments:\n",
    "    for word in positive_comments:\n",
    "        if word in comment:\n",
    "            real_pos.append(comment)\n",
    "            break"
   ]
  },
  {
   "cell_type": "code",
   "execution_count": 22,
   "metadata": {},
   "outputs": [
    {
     "data": {
      "text/plain": [
       "0.14334470989761092"
      ]
     },
     "execution_count": 22,
     "metadata": {},
     "output_type": "execute_result"
    }
   ],
   "source": [
    "# نسبت کامنتهای مثبت به کل کامنت ها\n",
    "not_details_neg_pos_comment_percentage = len(real_pos)/len(not_details_neg_pos_comments)\n",
    "not_details_neg_pos_comment_percentage"
   ]
  },
  {
   "cell_type": "code",
   "execution_count": 23,
   "metadata": {},
   "outputs": [
    {
     "data": {
      "text/plain": [
       "0.1292056603202171"
      ]
     },
     "execution_count": 23,
     "metadata": {},
     "output_type": "execute_result"
    }
   ],
   "source": [
    "# تعداد لایک ها به فالوورا\n",
    "not_details_neg['likesCount'].mean()/followers"
   ]
  },
  {
   "cell_type": "code",
   "execution_count": 24,
   "metadata": {},
   "outputs": [
    {
     "data": {
      "text/plain": [
       "0.00018879762119293033"
      ]
     },
     "execution_count": 24,
     "metadata": {},
     "output_type": "execute_result"
    }
   ],
   "source": [
    "# تعداد کامنت به فالوور\n",
    "len(not_details_neg_pos_comments)/(followers*len(not_details_neg))"
   ]
  },
  {
   "cell_type": "markdown",
   "metadata": {},
   "source": [
    "## پست های بدون جزئیات و مثبت"
   ]
  },
  {
   "cell_type": "code",
   "execution_count": 25,
   "metadata": {},
   "outputs": [
    {
     "data": {
      "text/plain": [
       "(394, 5)"
      ]
     },
     "execution_count": 25,
     "metadata": {},
     "output_type": "execute_result"
    }
   ],
   "source": [
    "caption_pos_capacity = not_have_details['caption'].apply(lambda x: any([word in x for word in positive]))\n",
    "not_details_pos = not_have_details[caption_pos_capacity]\n",
    "not_details_pos.shape"
   ]
  },
  {
   "cell_type": "code",
   "execution_count": 26,
   "metadata": {},
   "outputs": [],
   "source": [
    "all_comments = not_details_pos['comments'].tolist()\n",
    "not_details_pos_comments = [item for sublist in all_comments for item in sublist]\n",
    "len(not_details_pos_comments)\n",
    "\n",
    "real_pos = []\n",
    "for comment in not_details_pos_comments:\n",
    "    for word in positive_comments:\n",
    "        if word in comment:\n",
    "            real_pos.append(comment)\n",
    "            break"
   ]
  },
  {
   "cell_type": "code",
   "execution_count": 27,
   "metadata": {},
   "outputs": [
    {
     "data": {
      "text/plain": [
       "0.1552508849806147"
      ]
     },
     "execution_count": 27,
     "metadata": {},
     "output_type": "execute_result"
    }
   ],
   "source": [
    "# نسبت کامنتهای مثبت به کل کامنت ها\n",
    "not_details_pos_comment_percentage = len(real_pos)/len(not_details_pos_comments)\n",
    "not_details_pos_comment_percentage"
   ]
  },
  {
   "cell_type": "code",
   "execution_count": 28,
   "metadata": {},
   "outputs": [
    {
     "data": {
      "text/plain": [
       "0.10017938156293621"
      ]
     },
     "execution_count": 28,
     "metadata": {},
     "output_type": "execute_result"
    }
   ],
   "source": [
    "# تعداد لایک ها به فالوورا\n",
    "not_details_pos['likesCount'].mean()/followers"
   ]
  },
  {
   "cell_type": "code",
   "execution_count": 29,
   "metadata": {},
   "outputs": [
    {
     "data": {
      "text/plain": [
       "0.00018433670594480647"
      ]
     },
     "execution_count": 29,
     "metadata": {},
     "output_type": "execute_result"
    }
   ],
   "source": [
    "# تعداد کامنت به فالوور\n",
    "len(not_details_pos_comments)/(followers * len(not_details_pos))"
   ]
  },
  {
   "cell_type": "code",
   "execution_count": null,
   "metadata": {},
   "outputs": [],
   "source": []
  }
 ],
 "metadata": {
  "kernelspec": {
   "display_name": "Python 3",
   "language": "python",
   "name": "python3"
  },
  "language_info": {
   "codemirror_mode": {
    "name": "ipython",
    "version": 3
   },
   "file_extension": ".py",
   "mimetype": "text/x-python",
   "name": "python",
   "nbconvert_exporter": "python",
   "pygments_lexer": "ipython3",
   "version": "3.7.2"
  }
 },
 "nbformat": 4,
 "nbformat_minor": 5
}
